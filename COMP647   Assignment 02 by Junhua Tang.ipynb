{
 "cells": [
  {
   "cell_type": "code",
   "execution_count": 2,
   "id": "fc570ad3-6b6b-408a-b5f6-7452b28de874",
   "metadata": {},
   "outputs": [],
   "source": [
    "import numpy as np\n",
    "import pandas as pd\n",
    "import matplotlib.pyplot as plt"
   ]
  },
  {
   "cell_type": "code",
   "execution_count": 3,
   "id": "ebaabade-b432-4fa6-a483-615bc430c58b",
   "metadata": {},
   "outputs": [
    {
     "data": {
      "text/html": [
       "<div>\n",
       "<style scoped>\n",
       "    .dataframe tbody tr th:only-of-type {\n",
       "        vertical-align: middle;\n",
       "    }\n",
       "\n",
       "    .dataframe tbody tr th {\n",
       "        vertical-align: top;\n",
       "    }\n",
       "\n",
       "    .dataframe thead th {\n",
       "        text-align: right;\n",
       "    }\n",
       "</style>\n",
       "<table border=\"1\" class=\"dataframe\">\n",
       "  <thead>\n",
       "    <tr style=\"text-align: right;\">\n",
       "      <th></th>\n",
       "      <th>WorkDate</th>\n",
       "      <th>Customer</th>\n",
       "      <th>Location</th>\n",
       "      <th>BusinessType</th>\n",
       "      <th>OrderCount</th>\n",
       "      <th>NumberOfPieces</th>\n",
       "      <th>TotalRevenue</th>\n",
       "    </tr>\n",
       "  </thead>\n",
       "  <tbody>\n",
       "    <tr>\n",
       "      <th>122324</th>\n",
       "      <td>2025/4/30</td>\n",
       "      <td>Home Goods</td>\n",
       "      <td>Sacramento</td>\n",
       "      <td>Middle Mile</td>\n",
       "      <td>35</td>\n",
       "      <td>175.0</td>\n",
       "      <td>740.82</td>\n",
       "    </tr>\n",
       "    <tr>\n",
       "      <th>84924</th>\n",
       "      <td>2023/9/10</td>\n",
       "      <td>Shein</td>\n",
       "      <td>Dallas</td>\n",
       "      <td>Middle Mile</td>\n",
       "      <td>12</td>\n",
       "      <td>48.0</td>\n",
       "      <td>1004.28</td>\n",
       "    </tr>\n",
       "    <tr>\n",
       "      <th>24905</th>\n",
       "      <td>2021/1/31</td>\n",
       "      <td>Home Goods</td>\n",
       "      <td>Los Angeles</td>\n",
       "      <td>Middle Mile</td>\n",
       "      <td>13</td>\n",
       "      <td>65.0</td>\n",
       "      <td>658.24</td>\n",
       "    </tr>\n",
       "    <tr>\n",
       "      <th>43473</th>\n",
       "      <td>2021/11/20</td>\n",
       "      <td>Target</td>\n",
       "      <td>Los Angeles</td>\n",
       "      <td>Middle Mile</td>\n",
       "      <td>9</td>\n",
       "      <td>45.0</td>\n",
       "      <td>658.54</td>\n",
       "    </tr>\n",
       "    <tr>\n",
       "      <th>107702</th>\n",
       "      <td>2024/9/8</td>\n",
       "      <td>Amazon</td>\n",
       "      <td>Houston</td>\n",
       "      <td>Final Mile</td>\n",
       "      <td>7</td>\n",
       "      <td>35.0</td>\n",
       "      <td>188.63</td>\n",
       "    </tr>\n",
       "  </tbody>\n",
       "</table>\n",
       "</div>"
      ],
      "text/plain": [
       "          WorkDate    Customer     Location BusinessType OrderCount  \\\n",
       "122324   2025/4/30  Home Goods   Sacramento  Middle Mile         35   \n",
       "84924    2023/9/10       Shein       Dallas  Middle Mile         12   \n",
       "24905    2021/1/31  Home Goods  Los Angeles  Middle Mile         13   \n",
       "43473   2021/11/20      Target  Los Angeles  Middle Mile          9   \n",
       "107702    2024/9/8      Amazon      Houston   Final Mile          7   \n",
       "\n",
       "        NumberOfPieces  TotalRevenue  \n",
       "122324           175.0        740.82  \n",
       "84924             48.0       1004.28  \n",
       "24905             65.0        658.24  \n",
       "43473             45.0        658.54  \n",
       "107702            35.0        188.63  "
      ]
     },
     "execution_count": 3,
     "metadata": {},
     "output_type": "execute_result"
    }
   ],
   "source": [
    "df=pd.read_csv(r\"D:\\个人文件\\Lincoln University\\COMP647 Machine Learning\\supply_chain_deliveries.csv\")\n",
    "df.sample(5)"
   ]
  },
  {
   "cell_type": "markdown",
   "id": "95f6089a",
   "metadata": {},
   "source": [
    "# 1. Data Preprocessing  as appropriate to your dataset. "
   ]
  },
  {
   "cell_type": "markdown",
   "id": "a5ea9cff",
   "metadata": {},
   "source": [
    "## (a) cleaning the data"
   ]
  },
  {
   "cell_type": "code",
   "execution_count": 4,
   "id": "d057678d",
   "metadata": {},
   "outputs": [],
   "source": [
    "# delete duplicate values\n",
    "df=df.drop_duplicates()"
   ]
  },
  {
   "cell_type": "code",
   "execution_count": 5,
   "id": "2f817616",
   "metadata": {},
   "outputs": [
    {
     "name": "stdout",
     "output_type": "stream",
     "text": [
      "<class 'pandas.core.frame.DataFrame'>\n",
      "RangeIndex: 126255 entries, 0 to 126254\n",
      "Data columns (total 7 columns):\n",
      " #   Column          Non-Null Count   Dtype  \n",
      "---  ------          --------------   -----  \n",
      " 0   WorkDate        126255 non-null  object \n",
      " 1   Customer        126255 non-null  object \n",
      " 2   Location        126255 non-null  object \n",
      " 3   BusinessType    126255 non-null  object \n",
      " 4   OrderCount      126255 non-null  object \n",
      " 5   NumberOfPieces  126254 non-null  float64\n",
      " 6   TotalRevenue    126254 non-null  float64\n",
      "dtypes: float64(2), object(5)\n",
      "memory usage: 6.7+ MB\n"
     ]
    }
   ],
   "source": [
    "# check type of data\n",
    "df.info()"
   ]
  },
  {
   "cell_type": "code",
   "execution_count": 6,
   "id": "29f4dc85",
   "metadata": {},
   "outputs": [
    {
     "name": "stdout",
     "output_type": "stream",
     "text": [
      "    WorkDate  Customer Location BusinessType OrderCount  NumberOfPieces  \\\n",
      "16  2020/1/2  Chipotle  Chicago   Final Mile        XXX           184.0   \n",
      "\n",
      "    TotalRevenue  \n",
      "16        2565.8  \n"
     ]
    }
   ],
   "source": [
    "# the column of OrderCount should be in int. type, but it is in object type. That shows there is abnormal data.\n",
    "mask = ~df[\"OrderCount\"].apply(lambda x: str(x).isdigit())\n",
    "print(df[mask])\n"
   ]
  },
  {
   "cell_type": "code",
   "execution_count": 7,
   "id": "40b9f77d",
   "metadata": {},
   "outputs": [],
   "source": [
    "# delete abnormal data\n",
    "df = df.drop(df[mask].index)\n",
    "df[\"OrderCount\"] = df[\"OrderCount\"].astype(int)"
   ]
  },
  {
   "cell_type": "markdown",
   "id": "1f9399a5",
   "metadata": {},
   "source": [
    "## (b) missing data imputation"
   ]
  },
  {
   "cell_type": "code",
   "execution_count": 8,
   "id": "850f48b4",
   "metadata": {},
   "outputs": [
    {
     "data": {
      "text/html": [
       "<div>\n",
       "<style scoped>\n",
       "    .dataframe tbody tr th:only-of-type {\n",
       "        vertical-align: middle;\n",
       "    }\n",
       "\n",
       "    .dataframe tbody tr th {\n",
       "        vertical-align: top;\n",
       "    }\n",
       "\n",
       "    .dataframe thead th {\n",
       "        text-align: right;\n",
       "    }\n",
       "</style>\n",
       "<table border=\"1\" class=\"dataframe\">\n",
       "  <thead>\n",
       "    <tr style=\"text-align: right;\">\n",
       "      <th></th>\n",
       "      <th>WorkDate</th>\n",
       "      <th>Customer</th>\n",
       "      <th>Location</th>\n",
       "      <th>BusinessType</th>\n",
       "      <th>OrderCount</th>\n",
       "      <th>NumberOfPieces</th>\n",
       "      <th>TotalRevenue</th>\n",
       "    </tr>\n",
       "  </thead>\n",
       "  <tbody>\n",
       "    <tr>\n",
       "      <th>20</th>\n",
       "      <td>2020/1/2</td>\n",
       "      <td>Lowes</td>\n",
       "      <td>Sacramento</td>\n",
       "      <td>Final Mile</td>\n",
       "      <td>23</td>\n",
       "      <td>NaN</td>\n",
       "      <td>4729.94</td>\n",
       "    </tr>\n",
       "    <tr>\n",
       "      <th>32</th>\n",
       "      <td>2020/1/2</td>\n",
       "      <td>Costco</td>\n",
       "      <td>Detroit</td>\n",
       "      <td>First Mile</td>\n",
       "      <td>7</td>\n",
       "      <td>35.0</td>\n",
       "      <td>NaN</td>\n",
       "    </tr>\n",
       "  </tbody>\n",
       "</table>\n",
       "</div>"
      ],
      "text/plain": [
       "    WorkDate Customer    Location BusinessType  OrderCount  NumberOfPieces  \\\n",
       "20  2020/1/2    Lowes  Sacramento   Final Mile          23             NaN   \n",
       "32  2020/1/2   Costco     Detroit   First Mile           7            35.0   \n",
       "\n",
       "    TotalRevenue  \n",
       "20       4729.94  \n",
       "32           NaN  "
      ]
     },
     "execution_count": 8,
     "metadata": {},
     "output_type": "execute_result"
    }
   ],
   "source": [
    "# check for missing values\n",
    "df[df.isna().any(axis=1)]"
   ]
  },
  {
   "cell_type": "code",
   "execution_count": 9,
   "id": "cd0f98ab",
   "metadata": {},
   "outputs": [],
   "source": [
    "# Fill missing values with the mean\n",
    "df[\"NumberOfPieces\"] = df[\"NumberOfPieces\"].fillna(df[\"NumberOfPieces\"].mean())\n",
    "df[\"TotalRevenue\"] = df[\"TotalRevenue\"].fillna(df[\"TotalRevenue\"].mean())"
   ]
  },
  {
   "cell_type": "markdown",
   "id": "a441db7b",
   "metadata": {},
   "source": [
    "## (c) dealing with outliers"
   ]
  },
  {
   "cell_type": "code",
   "execution_count": 10,
   "id": "732188a4",
   "metadata": {},
   "outputs": [],
   "source": [
    "# define a function to remove outliers of each column, using IQR method\n",
    "def remove_outliers(table,column):\n",
    "    Q1 = table[column].quantile(0.25)\n",
    "    Q3 = table[column].quantile(0.75)\n",
    "    IQR = Q3 - Q1\n",
    "    lower_bound = Q1 - 1.5 * IQR\n",
    "    upper_bound = Q3 + 1.5 * IQR\n",
    "    condition_delete_outliers=(table[column] >= lower_bound) & (table[column] <= upper_bound)\n",
    "    table = table[condition_delete_outliers]\n",
    "    return table"
   ]
  },
  {
   "cell_type": "code",
   "execution_count": 11,
   "id": "e4f7e8ec",
   "metadata": {},
   "outputs": [],
   "source": [
    "# remove the outliers from the columns of OrderCount, NumberOfPieces,TotalRevenue\n",
    "df = remove_outliers(df, \"OrderCount\")\n",
    "df = remove_outliers(df, \"NumberOfPieces\")\n",
    "df = remove_outliers(df, \"TotalRevenue\")"
   ]
  },
  {
   "cell_type": "markdown",
   "id": "60cdcdf2",
   "metadata": {},
   "source": [
    "# 2. EDA & 3. insightful comments related to features"
   ]
  },
  {
   "cell_type": "code",
   "execution_count": 13,
   "id": "175dd853",
   "metadata": {},
   "outputs": [
    {
     "data": {
      "text/html": [
       "<div>\n",
       "<style scoped>\n",
       "    .dataframe tbody tr th:only-of-type {\n",
       "        vertical-align: middle;\n",
       "    }\n",
       "\n",
       "    .dataframe tbody tr th {\n",
       "        vertical-align: top;\n",
       "    }\n",
       "\n",
       "    .dataframe thead th {\n",
       "        text-align: right;\n",
       "    }\n",
       "</style>\n",
       "<table border=\"1\" class=\"dataframe\">\n",
       "  <thead>\n",
       "    <tr style=\"text-align: right;\">\n",
       "      <th></th>\n",
       "      <th>OrderCount</th>\n",
       "      <th>NumberOfPieces</th>\n",
       "      <th>TotalRevenue</th>\n",
       "    </tr>\n",
       "  </thead>\n",
       "  <tbody>\n",
       "    <tr>\n",
       "      <th>count</th>\n",
       "      <td>108337.00</td>\n",
       "      <td>108337.00</td>\n",
       "      <td>108337.00</td>\n",
       "    </tr>\n",
       "    <tr>\n",
       "      <th>mean</th>\n",
       "      <td>21.17</td>\n",
       "      <td>104.83</td>\n",
       "      <td>1563.18</td>\n",
       "    </tr>\n",
       "    <tr>\n",
       "      <th>std</th>\n",
       "      <td>14.93</td>\n",
       "      <td>74.37</td>\n",
       "      <td>1239.53</td>\n",
       "    </tr>\n",
       "    <tr>\n",
       "      <th>min</th>\n",
       "      <td>1.00</td>\n",
       "      <td>3.00</td>\n",
       "      <td>26.02</td>\n",
       "    </tr>\n",
       "    <tr>\n",
       "      <th>25%</th>\n",
       "      <td>9.00</td>\n",
       "      <td>45.00</td>\n",
       "      <td>606.98</td>\n",
       "    </tr>\n",
       "    <tr>\n",
       "      <th>50%</th>\n",
       "      <td>17.00</td>\n",
       "      <td>85.00</td>\n",
       "      <td>1188.04</td>\n",
       "    </tr>\n",
       "    <tr>\n",
       "      <th>75%</th>\n",
       "      <td>29.00</td>\n",
       "      <td>145.00</td>\n",
       "      <td>2164.06</td>\n",
       "    </tr>\n",
       "    <tr>\n",
       "      <th>max</th>\n",
       "      <td>76.00</td>\n",
       "      <td>345.00</td>\n",
       "      <td>5523.53</td>\n",
       "    </tr>\n",
       "  </tbody>\n",
       "</table>\n",
       "</div>"
      ],
      "text/plain": [
       "       OrderCount  NumberOfPieces  TotalRevenue\n",
       "count   108337.00       108337.00     108337.00\n",
       "mean        21.17          104.83       1563.18\n",
       "std         14.93           74.37       1239.53\n",
       "min          1.00            3.00         26.02\n",
       "25%          9.00           45.00        606.98\n",
       "50%         17.00           85.00       1188.04\n",
       "75%         29.00          145.00       2164.06\n",
       "max         76.00          345.00       5523.53"
      ]
     },
     "execution_count": 13,
     "metadata": {},
     "output_type": "execute_result"
    }
   ],
   "source": [
    "# conduct descriptive satistics\n",
    "df.describe().round(2)"
   ]
  },
  {
   "cell_type": "code",
   "execution_count": 40,
   "id": "7f52d040",
   "metadata": {},
   "outputs": [
    {
     "data": {
      "text/html": [
       "<div>\n",
       "<style scoped>\n",
       "    .dataframe tbody tr th:only-of-type {\n",
       "        vertical-align: middle;\n",
       "    }\n",
       "\n",
       "    .dataframe tbody tr th {\n",
       "        vertical-align: top;\n",
       "    }\n",
       "\n",
       "    .dataframe thead th {\n",
       "        text-align: right;\n",
       "    }\n",
       "</style>\n",
       "<table border=\"1\" class=\"dataframe\">\n",
       "  <thead>\n",
       "    <tr style=\"text-align: right;\">\n",
       "      <th></th>\n",
       "      <th>WorkDate</th>\n",
       "      <th>OrderCount</th>\n",
       "      <th>NumberOfPieces</th>\n",
       "      <th>TotalRevenue</th>\n",
       "    </tr>\n",
       "  </thead>\n",
       "  <tbody>\n",
       "    <tr>\n",
       "      <th>0</th>\n",
       "      <td>2020/1/10</td>\n",
       "      <td>1557</td>\n",
       "      <td>7643.0</td>\n",
       "      <td>117686.27</td>\n",
       "    </tr>\n",
       "    <tr>\n",
       "      <th>1</th>\n",
       "      <td>2020/1/11</td>\n",
       "      <td>588</td>\n",
       "      <td>2974.0</td>\n",
       "      <td>53006.51</td>\n",
       "    </tr>\n",
       "    <tr>\n",
       "      <th>2</th>\n",
       "      <td>2020/1/12</td>\n",
       "      <td>696</td>\n",
       "      <td>3488.0</td>\n",
       "      <td>61170.18</td>\n",
       "    </tr>\n",
       "    <tr>\n",
       "      <th>3</th>\n",
       "      <td>2020/1/13</td>\n",
       "      <td>1369</td>\n",
       "      <td>6577.0</td>\n",
       "      <td>95755.65</td>\n",
       "    </tr>\n",
       "    <tr>\n",
       "      <th>4</th>\n",
       "      <td>2020/1/14</td>\n",
       "      <td>1284</td>\n",
       "      <td>6200.0</td>\n",
       "      <td>81527.76</td>\n",
       "    </tr>\n",
       "  </tbody>\n",
       "</table>\n",
       "</div>"
      ],
      "text/plain": [
       "    WorkDate  OrderCount  NumberOfPieces  TotalRevenue\n",
       "0  2020/1/10        1557          7643.0     117686.27\n",
       "1  2020/1/11         588          2974.0      53006.51\n",
       "2  2020/1/12         696          3488.0      61170.18\n",
       "3  2020/1/13        1369          6577.0      95755.65\n",
       "4  2020/1/14        1284          6200.0      81527.76"
      ]
     },
     "execution_count": 40,
     "metadata": {},
     "output_type": "execute_result"
    }
   ],
   "source": [
    "# work out each day's total revenue, order count, number of pieces, of which total revenue serves as the dependent variable.\n",
    "# reorder the index\n",
    "newdata=df.groupby(\"WorkDate\")[[\"OrderCount\",\"NumberOfPieces\",\"TotalRevenue\"]].sum().reset_index()\n",
    "newdata.head()"
   ]
  },
  {
   "cell_type": "code",
   "execution_count": 42,
   "id": "e8e453a1",
   "metadata": {},
   "outputs": [
    {
     "name": "stdout",
     "output_type": "stream",
     "text": [
      "                OrderCount  NumberOfPieces  TotalRevenue\n",
      "OrderCount        1.000000        0.973004      0.574847\n",
      "NumberOfPieces    0.973004        1.000000      0.589955\n",
      "TotalRevenue      0.574847        0.589955      1.000000\n"
     ]
    }
   ],
   "source": [
    "corr_matrix = df[['OrderCount', 'NumberOfPieces', 'TotalRevenue']].corr()\n",
    "print(corr_matrix)"
   ]
  },
  {
   "cell_type": "markdown",
   "id": "0a006542",
   "metadata": {},
   "source": [
    "##### Comment: OrderCount and NumberOfPieces are highly correlated, so consider using PCA for dimensionality reduction."
   ]
  },
  {
   "cell_type": "code",
   "execution_count": 41,
   "id": "833fe057",
   "metadata": {},
   "outputs": [
    {
     "name": "stdout",
     "output_type": "stream",
     "text": [
      "[0.98650214]\n"
     ]
    }
   ],
   "source": [
    "# Use PCA to reduce dimension from 2 to 1\n",
    "from sklearn.decomposition import PCA\n",
    "from sklearn.preprocessing import StandardScaler\n",
    "\n",
    "X = df[['OrderCount','NumberOfPieces']]      # select two variables \n",
    "X_scaled = StandardScaler().fit_transform(X)  # Data Standardized to remove the effect of differing scales\n",
    "pca = PCA(n_components=1)                     # Reduce the original two-dimensional features to one principal component.\n",
    "X_pca = pca.fit_transform(X_scaled)           # extract PC1\n",
    "\n",
    "print(pca.explained_variance_ratio_)           # The proportion of total variance explained by the principal component."
   ]
  },
  {
   "cell_type": "markdown",
   "id": "5660e192",
   "metadata": {},
   "source": [
    "##### Comment: The proportion of total variance is 0.98650214. Therefore, we have sufficient reason to use PC1."
   ]
  },
  {
   "cell_type": "code",
   "execution_count": 39,
   "id": "b05f7d04",
   "metadata": {},
   "outputs": [
    {
     "data": {
      "text/html": [
       "<div>\n",
       "<style scoped>\n",
       "    .dataframe tbody tr th:only-of-type {\n",
       "        vertical-align: middle;\n",
       "    }\n",
       "\n",
       "    .dataframe tbody tr th {\n",
       "        vertical-align: top;\n",
       "    }\n",
       "\n",
       "    .dataframe thead th {\n",
       "        text-align: right;\n",
       "    }\n",
       "</style>\n",
       "<table border=\"1\" class=\"dataframe\">\n",
       "  <thead>\n",
       "    <tr style=\"text-align: right;\">\n",
       "      <th></th>\n",
       "      <th>PC1</th>\n",
       "      <th>TotalRevenue</th>\n",
       "    </tr>\n",
       "  </thead>\n",
       "  <tbody>\n",
       "    <tr>\n",
       "      <th>0</th>\n",
       "      <td>1.606802</td>\n",
       "      <td>117686.27</td>\n",
       "    </tr>\n",
       "    <tr>\n",
       "      <th>1</th>\n",
       "      <td>-0.462291</td>\n",
       "      <td>53006.51</td>\n",
       "    </tr>\n",
       "    <tr>\n",
       "      <th>2</th>\n",
       "      <td>1.132315</td>\n",
       "      <td>61170.18</td>\n",
       "    </tr>\n",
       "    <tr>\n",
       "      <th>3</th>\n",
       "      <td>1.227212</td>\n",
       "      <td>95755.65</td>\n",
       "    </tr>\n",
       "    <tr>\n",
       "      <th>4</th>\n",
       "      <td>-0.291146</td>\n",
       "      <td>81527.76</td>\n",
       "    </tr>\n",
       "  </tbody>\n",
       "</table>\n",
       "</div>"
      ],
      "text/plain": [
       "        PC1  TotalRevenue\n",
       "0  1.606802     117686.27\n",
       "1 -0.462291      53006.51\n",
       "2  1.132315      61170.18\n",
       "3  1.227212      95755.65\n",
       "4 -0.291146      81527.76"
      ]
     },
     "execution_count": 39,
     "metadata": {},
     "output_type": "execute_result"
    }
   ],
   "source": [
    "# combine the PC1 and dependent variable, TotalRevenue\n",
    "df_pca= pd.DataFrame(X_pca, columns=['PC1'])\n",
    "df_pca['TotalRevenue'] = newdata['TotalRevenue']\n",
    "df_pca.head()"
   ]
  },
  {
   "cell_type": "markdown",
   "id": "199ea292",
   "metadata": {},
   "source": [
    "# 4. Briefly discuss the question you could potentially explore with the dataset. Back up your reasons using the EDA you have performed with respect your target variable."
   ]
  },
  {
   "cell_type": "markdown",
   "id": "cd808233",
   "metadata": {},
   "source": [
    "\"\"\"\n",
    "\n",
    "I plan to build on the OrderCount and NumberOfPieces to make forecast on the TotalRevenue, using linear regression.\n",
    "In that case, the OrderCount and NumberOfPieces will act as independent variables and the TotalRevenue as dependent variable.\n",
    "\n",
    "Through examining correlation between these variables and the variable, I found that the independent variables are highly correlated.  \n",
    "In linear regression, this can lead to multicollinearity. To avoid this issue, \n",
    "I think it is necessary to use dimensionality reduction to eliminate it.\n",
    "\n",
    "\n",
    "According to the result of PCA, the proportion of total variance explained by the principal component is rather high. Thus, we have the very\n",
    "reason to use PC1.\n",
    "\n",
    "Therefore, I combine the PC1 and Total Revenue as the new dataset for futher linear regression analysis.\n",
    "\n",
    "\"\"\""
   ]
  },
  {
   "cell_type": "code",
   "execution_count": null,
   "id": "9beb9ffe",
   "metadata": {},
   "outputs": [],
   "source": []
  },
  {
   "cell_type": "code",
   "execution_count": null,
   "id": "fa87a59d",
   "metadata": {},
   "outputs": [],
   "source": []
  },
  {
   "cell_type": "code",
   "execution_count": null,
   "id": "59e97a06",
   "metadata": {},
   "outputs": [],
   "source": []
  },
  {
   "cell_type": "code",
   "execution_count": null,
   "id": "5c405ae2",
   "metadata": {},
   "outputs": [],
   "source": []
  }
 ],
 "metadata": {
  "kernelspec": {
   "display_name": "Python (GIS)",
   "language": "python",
   "name": "gis_env"
  },
  "language_info": {
   "codemirror_mode": {
    "name": "ipython",
    "version": 3
   },
   "file_extension": ".py",
   "mimetype": "text/x-python",
   "name": "python",
   "nbconvert_exporter": "python",
   "pygments_lexer": "ipython3",
   "version": "3.10.18"
  }
 },
 "nbformat": 4,
 "nbformat_minor": 5
}
